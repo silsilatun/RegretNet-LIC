{
  "cells": [
    {
      "cell_type": "code",
      "execution_count": null,
      "metadata": {
        "id": "qDkBg1apJKAf"
      },
      "outputs": [],
      "source": [
        "import os\n",
        "import numpy as np\n",
        "import tensorflow as tf\n",
        "np.random.seed(1234567879)\n",
        "tf.random.set_seed(1234567879)\n",
        "from RegretNet import train_model, test_model\n",
        "from RegretNet import generate_model, Trainer\n",
        "from data_generator import generate_item_values_uniform_01, generate_item_values_1x2_asymmetric\n",
        "import json"
      ]
    },
    {
      "cell_type": "code",
      "execution_count": null,
      "metadata": {},
      "outputs": [],
      "source": [
        "config_dir = \"RegretNet_configs\"\n",
        "l_models = [f.rstrip(\".json\") for f in os.listdir(config_dir)]\n",
        "for model in l_models:\n",
        "    print(f\"Training {model}...\")\n",
        "    train_model(model)\n",
        "    print(f\"Compreted training of {model} successfully.\\n\")"
      ]
    },
    {
      "cell_type": "code",
      "execution_count": null,
      "metadata": {},
      "outputs": [],
      "source": [
        "config_dir = \"RegretNet_configs\"\n",
        "l_models = [f.rstrip(\".json\") for f in os.listdir(config_dir)]\n",
        "for model in l_models:\n",
        "    print(f\"Testing {model}...\")\n",
        "    print(test_model(model))\n",
        "    print(f\"Compreted test of {model} successfully.\\n\")"
      ]
    }
  ],
  "metadata": {
    "colab": {
      "provenance": []
    },
    "kernelspec": {
      "display_name": "tf-gpu",
      "language": "python",
      "name": "python3"
    },
    "language_info": {
      "codemirror_mode": {
        "name": "ipython",
        "version": 3
      },
      "file_extension": ".py",
      "mimetype": "text/x-python",
      "name": "python",
      "nbconvert_exporter": "python",
      "pygments_lexer": "ipython3",
      "version": "3.9.18"
    }
  },
  "nbformat": 4,
  "nbformat_minor": 0
}
